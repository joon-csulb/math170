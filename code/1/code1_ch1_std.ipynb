{
 "cells": [
  {
   "cell_type": "markdown",
   "id": "d5ca2487",
   "metadata": {},
   "source": [
    "# MATH170 - Chapter 1: Functions, Symmetry, and Limits with SymPy\n",
    "\n",
    "**Course:** MATH170 Calculus for Data Science I  \n",
    "**Learning goals:** State key definitions and theorems. Apply them in computation and modeling. Explain results in precise mathematical language.  \n",
    "**Prerequisites:** Prior sections of the course as listed in the syllabus.  \n",
    "**Estimated time:** 90–120 minutes  \n",
    "**Outcomes:** By the end you can compute, justify with symbols, and validate numerically for this chapter’s topics.\n"
   ]
  },
  {
   "cell_type": "code",
   "execution_count": null,
   "id": "5ad16a4e",
   "metadata": {},
   "outputs": [],
   "source": [
    "import numpy as np\n",
    "import random\n",
    "import sympy as sp\n",
    "sp.init_printing()\n",
    "random.seed(42)\n",
    "np.random.seed(42)\n",
    "def header(title):\n",
    "    print(\"\\n\" + \"=\"*80)\n",
    "    print(title)\n",
    "    print(\"=\"*80)"
   ]
  },
  {
   "cell_type": "markdown",
   "id": "328fc786",
   "metadata": {},
   "source": [
    "## Part 1: Concepts and Definitions"
   ]
  },
  {
   "cell_type": "markdown",
   "id": "95f2d493",
   "metadata": {},
   "source": [
    "## Part 2: Worked Examples"
   ]
  },
  {
   "cell_type": "markdown",
   "id": "2f3f16f0",
   "metadata": {},
   "source": [
    "## Part 3: Hands On Practice"
   ]
  },
  {
   "cell_type": "markdown",
   "id": "807183ac",
   "metadata": {},
   "source": [
    "## Part 4: Checkpoint Quiz"
   ]
  },
  {
   "cell_type": "markdown",
   "id": "c43e9698",
   "metadata": {},
   "source": [
    "## Final Exercises"
   ]
  },
  {
   "cell_type": "code",
   "execution_count": null,
   "id": "efd6b5c6",
   "metadata": {},
   "outputs": [],
   "source": [
    "import sympy as sp\n",
    "sp.init_printing()\n",
    "import matplotlib.pyplot as plt\n",
    "import numpy as np\n",
    "\n",
    "x, y, t = sp.symbols('x y t')"
   ]
  },
  {
   "cell_type": "code",
   "execution_count": null,
   "id": "12ffa316",
   "metadata": {},
   "outputs": [],
   "source": [
    "# Example: f(x) = x^2 + 1\n",
    "f = x**2 + 1\n",
    "f"
   ]
  },
  {
   "cell_type": "code",
   "execution_count": null,
   "id": "106300f1",
   "metadata": {},
   "outputs": [],
   "source": [
    "# Numerical table representation\n",
    "x_vals = [0, 1, 2, 3]\n",
    "y_vals = [f.subs(x, val) for val in x_vals]\n",
    "list(zip(x_vals, y_vals))"
   ]
  },
  {
   "cell_type": "code",
   "execution_count": null,
   "id": "1af3348c",
   "metadata": {},
   "outputs": [],
   "source": [
    "# Graphical representation\n",
    "x_num = np.linspace(-3, 3, 100)\n",
    "y_num = x_num**2 + 1\n",
    "plt.plot(x_num, y_num, color='blue', linewidth=2, label='$f(x)=x^2+1$')\n",
    "plt.axhline(0, color='black', linewidth=0.5)\n",
    "plt.axvline(0, color='black', linewidth=0.5)\n",
    "plt.title(\"Graph of f(x) = x² + 1\", fontsize=14)\n",
    "plt.grid(True, linestyle=':')\n",
    "plt.legend()\n",
    "plt.show()"
   ]
  },
  {
   "cell_type": "markdown",
   "id": "a50853f6",
   "metadata": {},
   "source": [
    "### Hands-On Practice 1\n",
    "1. Define a new function \\( f(x) = 3x^2 - 2x + 5 \\), compute it at \\( x = -1, 0, 1, 2 \\), and graph it.\n",
    "2. Try changing the graph's line color to red and make it dashed.\n",
    "3. Add `plt.legend()` and give your function a label.\n",
    "4. Add both \\( f(x) \\) and \\( g(x) = x + 2 \\) on the same graph."
   ]
  },
  {
   "cell_type": "code",
   "execution_count": null,
   "id": "bc62c178",
   "metadata": {},
   "outputs": [],
   "source": [
    "# Even/Odd function check\n",
    "f_even = x**2\n",
    "f_odd = x**3\n",
    "f_even.subs(x, -x) == f_even  # Even check\n",
    "sp.simplify(f_odd.subs(x, -x) + f_odd) == 0  # Odd check"
   ]
  },
  {
   "cell_type": "code",
   "execution_count": null,
   "id": "816bcb6a",
   "metadata": {},
   "outputs": [],
   "source": [
    "# Graph visualization of symmetry\n",
    "plt.figure(figsize=(6,4))\n",
    "x_plot = np.linspace(-3, 3, 200)\n",
    "plt.plot(x_plot, x_plot**2, label='Even: $x^2$', color='blue')\n",
    "plt.plot(x_plot, x_plot**3, label='Odd: $x^3$', color='red')\n",
    "plt.axhline(0, color='black', linewidth=0.5)\n",
    "plt.axvline(0, color='black', linewidth=0.5)\n",
    "plt.legend()\n",
    "plt.title(\"Even vs Odd Function Symmetry\")\n",
    "plt.grid(True, linestyle=':')\n",
    "plt.show()"
   ]
  },
  {
   "cell_type": "markdown",
   "id": "4c3367d8",
   "metadata": {},
   "source": [
    "### Hands-On Practice 2\n",
    "1. Show whether \\( f(x) = x^4 + x^2 \\) is even or odd.\n",
    "2. Test \\( f(x) = x^3 + x \\) for oddness.\n",
    "3. Try a function that is neither even nor odd and verify."
   ]
  },
  {
   "cell_type": "code",
   "execution_count": null,
   "id": "28343c6a",
   "metadata": {},
   "outputs": [],
   "source": [
    "# Increasing/Decreasing check\n",
    "f1 = x**2\n",
    "f1.subs(x, 1) < f1.subs(x, 2)  # True if increasing from x=1 to x=2"
   ]
  },
  {
   "cell_type": "markdown",
   "id": "cbc19e28",
   "metadata": {},
   "source": [
    "### Hands-On Practice 3\n",
    "1. Test whether \\( f(x) = 3x + 1 \\) is increasing.\n",
    "2. Test whether \\( f(x) = -2x + 5 \\) is decreasing.\n",
    "3. Create a symbolic function and determine whether it's increasing or decreasing on [1, 3]."
   ]
  },
  {
   "cell_type": "code",
   "execution_count": null,
   "id": "8d5d7a15",
   "metadata": {},
   "outputs": [],
   "source": [
    "# Function composition\n",
    "f = x**2\n",
    "g = x + 1\n",
    "f_of_g = f.subs(x, g)\n",
    "g_of_f = g.subs(x, f)\n",
    "f_of_g, g_of_f"
   ]
  },
  {
   "cell_type": "markdown",
   "id": "34ada0f8",
   "metadata": {},
   "source": [
    "### Hands-On Practice 4\n",
    "Let \\( f(x) = x^2 + 2 \\), \\( g(x) = 3x - 1 \\). Compute \\( f(g(x)) \\) and \\( g(f(x)) \\). Then evaluate each at \\( x = 2 \\)."
   ]
  },
  {
   "cell_type": "code",
   "execution_count": null,
   "id": "eece4ade",
   "metadata": {},
   "outputs": [],
   "source": [
    "# Piecewise functions\n",
    "abs_expr = sp.Piecewise((x, x >= 0), (-x, x < 0))\n",
    "abs_expr, abs_expr.subs(x, -3), abs_expr.subs(x, 2)"
   ]
  },
  {
   "cell_type": "code",
   "execution_count": null,
   "id": "ef88228a",
   "metadata": {},
   "outputs": [],
   "source": [
    "# Heaviside function example (slide-based)\n",
    "heaviside_func = sp.Heaviside(t)\n",
    "heaviside_func.subs(t, -1), heaviside_func.subs(t, 0), heaviside_func.subs(t, 3)"
   ]
  },
  {
   "cell_type": "code",
   "execution_count": null,
   "id": "2ad310c3",
   "metadata": {},
   "outputs": [],
   "source": [
    "# CN Tower drop example: height after t seconds\n",
    "h = 450 - 4.9*t**2\n",
    "v = sp.diff(h, t)\n",
    "h_after_5 = h.subs(t, 5)\n",
    "v_after_5 = v.subs(t, 5)\n",
    "h_after_5, v_after_5"
   ]
  },
  {
   "cell_type": "markdown",
   "id": "f6ca8522",
   "metadata": {},
   "source": [
    "### Hands-On Practice 5\n",
    "1. Define \\( h(x) = \\begin{cases} -1 & x < 0 \\\\ 1 & x \\geq 0 \\end{cases} \\) using `Piecewise`, and evaluate at -5 and 2.\n",
    "2. Plot the absolute value function using `matplotlib`."
   ]
  },
  {
   "cell_type": "code",
   "execution_count": null,
   "id": "4f57ed9c",
   "metadata": {},
   "outputs": [],
   "source": [
    "# Limits\n",
    "sp.limit((x**2 - 1)/(x - 1), x, 1)\n",
    "sp.limit(sp.sin(x)/x, x, 0)\n",
    "sp.limit(1/x, x, 0, dir='-'), sp.limit(1/x, x, 0, dir='+')\n",
    "sp.limit((3*x**2 + 5)/(x**2 - 2*x + 1), x, sp.oo)\n",
    "\n",
    "left = sp.limit(sp.Abs(x)/x, x, 0, dir='-')\n",
    "right = sp.limit(sp.Abs(x)/x, x, 0, dir='+')\n",
    "left, right"
   ]
  },
  {
   "cell_type": "markdown",
   "id": "59ff57c3",
   "metadata": {},
   "source": [
    "### Hands-On Practice 6\n",
    "\n",
    "1. Compute $\\lim_{x \\to 0} \\frac{1 - \\cos(x)}{x^2}$\n",
    "2. Compute $\\lim_{x \\to \\infty} \\frac{x^3 - 2x}{5x^3 + 7}$\n",
    "3. Compute left and right limits of $\\frac{1}{x^2}$ at 0.\n",
    "4. Try a function whose limit doesn't exist. What causes this?\n",
    "5. Use SymPy to compute:\n",
    "   - $\\lim_{x \\to 0} \\frac{\\tan(x) - x}{x^3}$\n",
    "   - $\\lim_{x \\to \\infty} \\frac{\\ln(x^2 + 1)}{x}$\n",
    "   - $\\lim_{x \\to 0^+} x^{x}$\n",
    "   - $\\lim_{x \\to \\infty} \\left(1 + \\frac{1}{x}\\right)^x$\n",
    "   - $\\lim_{x \\to 0} \\frac{\\sqrt{1 + x} - \\sqrt{1 - x}}{x}$"
   ]
  },
  {
   "cell_type": "markdown",
   "id": "23906050",
   "metadata": {},
   "source": [
    "## Final Comprehensive Exercise\n",
    "1. Define a function $( f(x) = \\frac{x^2 - 4}{x - 2})$ and:\n",
    "   - Determine whether it is even, odd, or neither.\n",
    "   - Identify any points where it is not continuous.\n",
    "   - Compute $( \\lim_{x \\to 2} f(x) )$ and explain the result.\n",
    "2. Create a piecewise function modeling parking fees:\n",
    "   - Free for 0–1 hour\n",
    "   - \\$2/hour for 1–5 hours\n",
    "   - Flat \\$12 after 5 hours\n",
    "   - Evaluate at 0.5, 3, and 8 hours.\n",
    "3. Graph the piecewise function.\n",
    "4. For $( g(x) = \\sqrt{x^2 + 1} )$, check symmetry and increasing/decreasing behavior.\n",
    "5. Bonus: Model a bouncing ball dropped from 10m where each bounce is 80% of the previous height, and find the height after 5 bounces using a formula."
   ]
  },
  {
   "cell_type": "code",
   "execution_count": null,
   "id": "e42eab66-5bbe-4337-88d2-531d9aaf6221",
   "metadata": {},
   "outputs": [],
   "source": [
    "import os, shutil, datetime\n",
    "\n",
    "student_name = \"joonlee\"      # your name\n",
    "lab_tag = \"code1\"             # code number\n",
    "\n",
    "submit_dir = os.path.expanduser(f\"~/submit/{lab_tag}/{student_name}\")\n",
    "os.makedirs(submit_dir, exist_ok=True)\n",
    "\n",
    "notebook_name = \"code1_ch1_std.ipynb\"\n",
    "shutil.copy2(notebook_name, submit_dir)\n",
    "\n",
    "with open(os.path.join(submit_dir, \"submitted_at.txt\"), \"w\") as f:\n",
    "    f.write(str(datetime.datetime.now()))\n",
    "\n",
    "print(f\"Submitted to {submit_dir}\")\n"
   ]
  }
 ],
 "metadata": {
  "kernelspec": {
   "display_name": "Python 3 (ipykernel)",
   "language": "python",
   "name": "python3"
  },
  "language_info": {
   "codemirror_mode": {
    "name": "ipython",
    "version": 3
   },
   "file_extension": ".py",
   "mimetype": "text/x-python",
   "name": "python",
   "nbconvert_exporter": "python",
   "pygments_lexer": "ipython3",
   "version": "3.12.7"
  }
 },
 "nbformat": 4,
 "nbformat_minor": 5
}
