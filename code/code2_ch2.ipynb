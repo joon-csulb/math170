{
 "cells": [
  {
   "cell_type": "markdown",
   "id": "2da0e430",
   "metadata": {},
   "source": [
    "# MATH170 - Chapter 2: Derivatives and Applications\n",
    "\n",
    "**Objective:** Understand the meaning of derivatives, learn symbolic differentiation using SymPy, \n",
    "apply rules of derivatives, test differentiability, compute higher-order and partial derivatives,\n",
    "solve related rates problems, use derivatives for tangent lines, and apply linear approximations."
   ]
  },
  {
   "cell_type": "code",
   "execution_count": 2,
   "id": "774585d3",
   "metadata": {},
   "outputs": [],
   "source": [
    "import sympy as sp\n",
    "sp.init_printing()\n",
    "import matplotlib.pyplot as plt\n",
    "import numpy as np\n",
    "\n",
    "# Symbol definition\n",
    "x, y, t = sp.symbols('x y t')"
   ]
  },
  {
   "cell_type": "markdown",
   "id": "887a7ae0",
   "metadata": {},
   "source": [
    "## Part 1: Introduction to Derivatives - Velocity Problem"
   ]
  },
  {
   "cell_type": "code",
   "execution_count": 3,
   "id": "04573cdb",
   "metadata": {},
   "outputs": [
    {
     "data": {
      "image/png": "[encoded data removed]",
      "text/latex": [
       "$\\displaystyle \\left( 327.5, \\  -49.0, \\  -9.8\\right)$"
      ],
      "text/plain": [
       "(327.5, -49.0, -9.8)"
      ]
     },
     "execution_count": 3,
     "metadata": {},
     "output_type": "execute_result"
    }
   ],
   "source": [
    "# the height function, h(t)\n",
    "h = 450 - 4.9*t**2\n",
    "v = sp.diff(h, t)\n",
    "a = sp.diff(v, t)\n",
    "h_at_5 = h.subs(t, 5)\n",
    "v_at_5 = v.subs(t, 5)\n",
    "h_at_5, v_at_5, a"
   ]
  },
  {
   "cell_type": "markdown",
   "id": "73fbd314",
   "metadata": {},
   "source": [
    "### Hands-On Practice 1\n",
    "A ball is thrown upward from 20 m at 15 m/s.  \n",
    "1. Write the height function h(t).  \n",
    "2. Find velocity and acceleration.  \n",
    "3. Compute height and velocity at t=2."
   ]
  },
  {
   "cell_type": "markdown",
   "id": "eb0bc206",
   "metadata": {},
   "source": [
    "## Part 2: Derivative as a Function"
   ]
  },
  {
   "cell_type": "code",
   "execution_count": null,
   "id": "dd80760e",
   "metadata": {},
   "outputs": [],
   "source": [
    "f = x**3 - 3*x**2 + 2\n",
    "f_prime = sp.diff(f, x)\n",
    "f_lamb = sp.lambdify(x, f, 'numpy')\n",
    "f_prime_lamb = sp.lambdify(x, f_prime, 'numpy')\n",
    "\n",
    "X = np.linspace(-2, 4, 400)\n",
    "plt.plot(X, f_lamb(X), label=\"$f(x)$\", color='blue')\n",
    "plt.plot(X, f_prime_lamb(X), label=\"$f'(x)$\", color='red', linestyle='--')\n",
    "plt.axhline(0, color='black', linewidth=0.5)\n",
    "plt.axvline(0, color='black', linewidth=0.5)\n",
    "plt.grid(True, linestyle=':')\n",
    "plt.legend()\n",
    "plt.show()"
   ]
  },
  {
   "cell_type": "markdown",
   "id": "58d87e3d",
   "metadata": {},
   "source": [
    "### Hands-On Practice 2\n",
    "For $f(x) = x^4 - 4x^2$:  \n",
    "1. Plot $f$ and $f'$.  \n",
    "2. Identify intervals where $f$ is increasing/decreasing."
   ]
  },
  {
   "cell_type": "markdown",
   "id": "2ccaaabf",
   "metadata": {},
   "source": [
    "## Part 3: Differentiability"
   ]
  },
  {
   "cell_type": "code",
   "execution_count": null,
   "id": "c9556996",
   "metadata": {},
   "outputs": [],
   "source": [
    "abs_func = sp.Abs(x)\n",
    "sp.diff(abs_func, x)  # symbolic derivative (undefined at 0)\n",
    "\n",
    "# Graph with corner\n",
    "X = np.linspace(-3, 3, 400)\n",
    "plt.plot(X, np.abs(X), label='$|x|$')\n",
    "plt.title(\"Corner at x=0 (Not Differentiable)\")\n",
    "plt.grid(True, linestyle=':')\n",
    "plt.legend()\n",
    "plt.show()"
   ]
  },
  {
   "cell_type": "markdown",
   "id": "ad98b647",
   "metadata": {},
   "source": [
    "### Hands-On Practice 3\n",
    "1. Test differentiability of $f(x) = |x - 1|$ at x=1.  \n",
    "2. Graph the function and discuss."
   ]
  },
  {
   "cell_type": "markdown",
   "id": "c1b4e013",
   "metadata": {},
   "source": [
    "## Part 4: Basic Differentiation Rules"
   ]
  },
  {
   "cell_type": "code",
   "execution_count": null,
   "id": "d087e1e5",
   "metadata": {},
   "outputs": [],
   "source": [
    "f = (x**2 + 1)*(x**3)  # Product rule\n",
    "sp.diff(f, x)\n",
    "\n",
    "f = (x + 1)/(x**2 + 1) # Quotient rule\n",
    "sp.diff(f, x)"
   ]
  },
  {
   "cell_type": "markdown",
   "id": "481bf5d7",
   "metadata": {},
   "source": [
    "### Hands-On Practice 4\n",
    "Differentiate:  \n",
    "1. $(2x+3)^4$\n",
    "3. $\\frac{x^2+2}{x-1}$\n",
    "4. $e^x \\sin(x)$"
   ]
  },
  {
   "cell_type": "markdown",
   "id": "d5d7446d",
   "metadata": {},
   "source": [
    "## Part 5: Trigonometric Derivatives"
   ]
  },
  {
   "cell_type": "code",
   "execution_count": null,
   "id": "6073aa5f",
   "metadata": {},
   "outputs": [],
   "source": [
    "f = sp.sin(x)\n",
    "f_prime = sp.diff(f, x)\n",
    "f_lamb = sp.lambdify(x, f, 'numpy')\n",
    "f_prime_lamb = sp.lambdify(x, f_prime, 'numpy')\n",
    "\n",
    "X = np.linspace(-2*np.pi, 2*np.pi, 400)\n",
    "plt.plot(X, f_lamb(X), label='$\\\\sin(x)$')\n",
    "plt.plot(X, f_prime_lamb(X), label='$\\\\cos(x)$', linestyle='--')\n",
    "plt.grid(True, linestyle=':')\n",
    "plt.legend()\n",
    "plt.show()"
   ]
  },
  {
   "cell_type": "markdown",
   "id": "0566edb9",
   "metadata": {},
   "source": [
    "### Hands-On Practice 5\n",
    "Plot $\\cos(x)$ and its derivative $-\\sin(x)$."
   ]
  },
  {
   "cell_type": "markdown",
   "id": "c85f4e89",
   "metadata": {},
   "source": [
    "## Part 6: Higher-Order Derivatives"
   ]
  },
  {
   "cell_type": "code",
   "execution_count": null,
   "id": "763b2e89",
   "metadata": {},
   "outputs": [],
   "source": [
    "f = x**4 + 2*x**2\n",
    "first = sp.diff(f, x)\n",
    "second = sp.diff(f, x, 2)\n",
    "third = sp.diff(f, x, 3)\n",
    "first, second, third"
   ]
  },
  {
   "cell_type": "markdown",
   "id": "587e2ebb",
   "metadata": {},
   "source": [
    "### Hands-On Practice 6\n",
    "Compute $f'$, $f''$, $f'''$ for $\\cos(x^2)$ and plot them."
   ]
  },
  {
   "cell_type": "markdown",
   "id": "6ea2f810",
   "metadata": {},
   "source": [
    "## Part 7: Marginal Cost Example"
   ]
  },
  {
   "cell_type": "code",
   "execution_count": null,
   "id": "5570cad5",
   "metadata": {},
   "outputs": [],
   "source": [
    "C = 5000 + 10*x + 0.01*x**2\n",
    "MC = sp.diff(C, x)\n",
    "MC.subs(x, 100)  # marginal cost at 100 units"
   ]
  },
  {
   "cell_type": "markdown",
   "id": "d50a048f",
   "metadata": {},
   "source": [
    "### Hands-On Practice 7\n",
    "If $C(x) = 1000 + 5x + 0.05x^2$, find MC at $x=50$."
   ]
  },
  {
   "cell_type": "markdown",
   "id": "3879cb68",
   "metadata": {},
   "source": [
    "## Part 8: Related Rates\n",
    "Balloon radius rate example"
   ]
  },
  {
   "cell_type": "code",
   "execution_count": null,
   "id": "1cac7f62",
   "metadata": {},
   "outputs": [],
   "source": [
    "V = (4/3)*sp.pi*x**3\n",
    "dV_dt = 100\n",
    "dx_dt_expr = sp.solve(sp.Eq(sp.diff(V, x)*sp.Symbol('dx_dt'), dV_dt), sp.Symbol('dx_dt'))[0]\n",
    "dx_dt_expr.subs(x, 25/2)  # diameter = 25 cm"
   ]
  },
  {
   "cell_type": "markdown",
   "id": "e6e2500f",
   "metadata": {},
   "source": [
    "### Hands-On Practice 8\n",
    "Ladder problem: Ladder 10 ft, bottom slides at 1 ft/s. Find top sliding rate when bottom is 6 ft away."
   ]
  },
  {
   "cell_type": "markdown",
   "id": "8e2fc228",
   "metadata": {},
   "source": [
    "## Part 9: Tangent Lines"
   ]
  },
  {
   "cell_type": "code",
   "execution_count": null,
   "id": "45389d85",
   "metadata": {},
   "outputs": [],
   "source": [
    "f = x**2 + 1\n",
    "a = 2\n",
    "slope = sp.diff(f, x).subs(x, a)\n",
    "point = f.subs(x, a)\n",
    "tangent_line = slope*(x-a) + point\n",
    "tangent_line"
   ]
  },
  {
   "cell_type": "markdown",
   "id": "53f891ef",
   "metadata": {},
   "source": [
    "### Hands-On Practice 9\n",
    "Find the tangent line for $f(x) = x^3 - x$ at $x=1$ and plot with the function."
   ]
  },
  {
   "cell_type": "markdown",
   "id": "4c7d4cca",
   "metadata": {},
   "source": [
    "## Part 10: Linear Approximation & Differentials"
   ]
  },
  {
   "cell_type": "code",
   "execution_count": null,
   "id": "f26808ca",
   "metadata": {},
   "outputs": [],
   "source": [
    "f = sp.sqrt(x)\n",
    "a = 4\n",
    "L = f.subs(x, a) + sp.diff(f, x).subs(x, a)*(x-a)\n",
    "approx_4_1 = L.subs(x, 4.1)\n",
    "true_4_1 = sp.sqrt(4.1)\n",
    "approx_4_1, true_4_1, float(approx_4_1 - true_4_1)"
   ]
  },
  {
   "cell_type": "markdown",
   "id": "792d78cc",
   "metadata": {},
   "source": [
    "### Hands-On Practice 10\n",
    "Use linear approximation for $\\ln(x)$ at $x=1$. Approximate $\\ln(1.05)$ and compare."
   ]
  },
  {
   "cell_type": "code",
   "execution_count": null,
   "id": "5faa1fa9-e034-4521-97bc-9373a5e688a8",
   "metadata": {},
   "outputs": [],
   "source": []
  }
 ],
 "metadata": {
  "kernelspec": {
   "display_name": "Python 3 (ipykernel)",
   "language": "python",
   "name": "python3"
  },
  "language_info": {
   "codemirror_mode": {
    "name": "ipython",
    "version": 3
   },
   "file_extension": ".py",
   "mimetype": "text/x-python",
   "name": "python",
   "nbconvert_exporter": "python",
   "pygments_lexer": "ipython3",
   "version": "3.12.7"
  }
 },
 "nbformat": 4,
 "nbformat_minor": 5
}
