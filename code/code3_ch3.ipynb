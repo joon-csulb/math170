{
 "cells": [
  {
   "cell_type": "markdown",
   "id": "d8c34656",
   "metadata": {},
   "source": [
    "# MATH170 - Chapter 3: Derivatives of Logarithmic and Exponential Functions\n",
    "\n",
    "**Objective:** Understand inverse functions and their derivatives, differentiate logarithmic and exponential functions, apply logarithmic differentiation, and use L’Hospital’s Rule to evaluate limits."
   ]
  },
  {
   "cell_type": "code",
   "execution_count": 9,
   "id": "8ce92d10",
   "metadata": {},
   "outputs": [],
   "source": [
    "import sympy as sp\n",
    "sp.init_printing()\n",
    "import numpy as np\n",
    "import matplotlib.pyplot as plt\n",
    "\n",
    "x = sp.Symbol('x')"
   ]
  },
  {
   "cell_type": "markdown",
   "id": "ee1003ed",
   "metadata": {},
   "source": [
    "## Part 1: Derivatives of Logarithmic Functions"
   ]
  },
  {
   "cell_type": "code",
   "execution_count": 10,
   "id": "441d0494",
   "metadata": {},
   "outputs": [
    {
     "data": {
      "image/png": "[encoded data removed]",
      "text/latex": [
       "$\\displaystyle \\frac{1}{x \\log{\\left(10 \\right)}}$"
      ],
      "text/plain": [
       "    1    \n",
       "─────────\n",
       "x⋅log(10)"
      ]
     },
     "execution_count": 10,
     "metadata": {},
     "output_type": "execute_result"
    }
   ],
   "source": [
    "f = sp.log(x)  # natural log\n",
    "f_prime = sp.diff(f, x)\n",
    "f_prime\n",
    "\n",
    "# log base 10\n",
    "f_base10 = sp.log(x, 10)\n",
    "f_base10_prime = sp.diff(f_base10, x)\n",
    "f_base10_prime"
   ]
  },
  {
   "cell_type": "markdown",
   "id": "62047c45",
   "metadata": {},
   "source": [
    "### Hands-On Practice 1\n",
    "\n",
    "Differentiate $\\log_5(x^2+1)$."
   ]
  },
  {
   "cell_type": "markdown",
   "id": "7bf617e2",
   "metadata": {},
   "source": [
    "## Part 2: Derivatives of Exponential Functions"
   ]
  },
  {
   "cell_type": "code",
   "execution_count": 11,
   "id": "fc4a9d6e",
   "metadata": {},
   "outputs": [
    {
     "data": {
      "image/png": "[encoded data removed]",
      "text/latex": [
       "$\\displaystyle e^{x}$"
      ],
      "text/plain": [
       " x\n",
       "ℯ "
      ]
     },
     "metadata": {},
     "output_type": "display_data"
    },
    {
     "data": {
      "image/png": "[encoded data removed]",
      "text/latex": [
       "$\\displaystyle 2^{x} \\log{\\left(2 \\right)}$"
      ],
      "text/plain": [
       " x       \n",
       "2 ⋅log(2)"
      ]
     },
     "metadata": {},
     "output_type": "display_data"
    }
   ],
   "source": [
    "f = sp.exp(x)\n",
    "display(sp.diff(f, x))\n",
    "\n",
    "f = 2**x\n",
    "display(sp.diff(f, x))"
   ]
  },
  {
   "cell_type": "markdown",
   "id": "e4f3dc55",
   "metadata": {},
   "source": [
    "### Hands-On Practice 2\n",
    "Differentiate $ e^{3x} $ and $ 5^{x^2} $."
   ]
  },
  {
   "cell_type": "markdown",
   "id": "52142265",
   "metadata": {
    "jp-MarkdownHeadingCollapsed": true
   },
   "source": [
    "## Final Comprehensive Exercise  \n",
    "1. Differentiate $ \\log_7(x^3 + 1) $.  \n",
    "2. Use logarithmic differentiation on $ y = (x^2+1)^x $.  \n",
    "3. Differentiate $ 3^{\\sin x} $.  "
   ]
  }
 ],
 "metadata": {
  "kernelspec": {
   "display_name": "Python 3 (ipykernel)",
   "language": "python",
   "name": "python3"
  },
  "language_info": {
   "codemirror_mode": {
    "name": "ipython",
    "version": 3
   },
   "file_extension": ".py",
   "mimetype": "text/x-python",
   "name": "python",
   "nbconvert_exporter": "python",
   "pygments_lexer": "ipython3",
   "version": "3.12.7"
  }
 },
 "nbformat": 4,
 "nbformat_minor": 5
}
