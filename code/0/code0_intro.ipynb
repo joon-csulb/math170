{
 "cells": [
  {
   "cell_type": "markdown",
   "id": "d44d9600",
   "metadata": {},
   "source": [
    "# MATH170 Chapter 0: Introduction to Python and NumPy\n",
    "\n",
    "**Objective:** Learn basic Python syntax and NumPy operations for use in calculus and data science."
   ]
  },
  {
   "cell_type": "markdown",
   "id": "d2a111f1",
   "metadata": {},
   "source": [
    "### Part 1: Basic Python Types\n",
    "Python supports integers, floats, strings, and booleans."
   ]
  },
  {
   "cell_type": "code",
   "execution_count": null,
   "id": "11fbf8c8-170a-4955-a3fd-1802480f1953",
   "metadata": {},
   "outputs": [],
   "source": [
    "# Create three variables and print them\n",
    "my_age = 20             # integer\n",
    "pi_approx = 3.1415       # float\n",
    "my_name = \"Joon\"         # string"
   ]
  },
  {
   "cell_type": "code",
   "execution_count": null,
   "id": "72b3d492-969e-4db0-a251-94650a1ccbcd",
   "metadata": {},
   "outputs": [],
   "source": [
    "print(\"Age:\", my_age)\n",
    "print(\"Approximate pi:\", pi_approx)\n",
    "print(\"My name is\", my_name)"
   ]
  },
  {
   "cell_type": "code",
   "execution_count": null,
   "id": "4d52c9c0-1bf4-4df1-bacb-ad27c208ea39",
   "metadata": {},
   "outputs": [],
   "source": [
    "# Check the type of each variable\n",
    "print(\"Type of my_age:\", type(my_age))\n",
    "print(\"Type of pi_approx:\", type(pi_approx))\n",
    "print(\"Type of my_name:\", type(my_name))"
   ]
  },
  {
   "cell_type": "code",
   "execution_count": null,
   "id": "ef44d25c-c629-4c28-8913-fb3e3963dd2b",
   "metadata": {},
   "outputs": [],
   "source": [
    "# Type coercion: int + float results in float\n",
    "print(\"my_age + pi_approx =\", my_age + pi_approx)\n",
    "print(\"Type of result:\", type(my_age + pi_approx))"
   ]
  },
  {
   "cell_type": "code",
   "execution_count": null,
   "id": "f24d861c-ed09-4074-9e8b-ea80324a2a8e",
   "metadata": {},
   "outputs": [],
   "source": [
    "# Invalid operation: int + str\n",
    "result = my_age + my_name"
   ]
  },
  {
   "cell_type": "code",
   "execution_count": null,
   "id": "ad00489a-140a-4743-b4ac-b00a498f723a",
   "metadata": {},
   "outputs": [],
   "source": [
    "# valid operation: int * str\n",
    "result = my_age * my_name"
   ]
  },
  {
   "cell_type": "code",
   "execution_count": null,
   "id": "cd38e9d7-c0b9-44f0-805f-1cb74838476b",
   "metadata": {},
   "outputs": [],
   "source": [
    "print(\"Result of my_age * my_name =\",result)"
   ]
  },
  {
   "cell_type": "code",
   "execution_count": null,
   "id": "8a9fa650-b463-47f8-8ba7-9505bd769f2f",
   "metadata": {},
   "outputs": [],
   "source": [
    "# valid operation: float * str\n",
    "result = pi_approx * my_name"
   ]
  },
  {
   "cell_type": "markdown",
   "id": "f9c25bbe",
   "metadata": {},
   "source": [
    "___\n",
    "### Hands-On Practice 1\n",
    "1. Create three variables:\n",
    "- an integer called `my_year`\n",
    "- a float called `g_constant` (g is gravitational acceleration)\n",
    "- a string called `my_school`\n",
    "2. Then print them using the `print()` function.\n",
    "\n",
    "3. Try printing each variable's type using `type()`.\n",
    "4. Try multiplying the float by 2 and adding 10 to the integer.\n",
    "___"
   ]
  },
  {
   "cell_type": "code",
   "execution_count": null,
   "id": "8f80061c",
   "metadata": {},
   "outputs": [],
   "source": [
    "# Your code here"
   ]
  },
  {
   "cell_type": "markdown",
   "id": "de8a09d5",
   "metadata": {},
   "source": [
    "## Part 2: Lists and Indexing\n",
    "Lists store multiple values. Indexing starts from 0 in Python."
   ]
  },
  {
   "cell_type": "code",
   "execution_count": null,
   "id": "d0d6fbec",
   "metadata": {},
   "outputs": [],
   "source": [
    "# Create a list of numbers (10 items)\n",
    "my_list = [10, 20, 30, 40, 50, 60, 70, 80, 90, 100]\n",
    "\n",
    "print(\"First item:\", my_list[0])\n",
    "print(\"Second item:\", my_list[1])\n",
    "print(\"Last item:\", my_list[-1])\n",
    "print(\"Items 2 to 6 (index 1 to 5):\", my_list[1:6])\n",
    "print(\"2nd and 4th items using indexing:\", [my_list[i] for i in [1, 3]])\n",
    "\n",
    "selected_items = [my_list[1], my_list[2], my_list[6]]\n",
    "print(\"Direct indexing result:\", selected_items)"
   ]
  },
  {
   "cell_type": "markdown",
   "id": "9fa87588",
   "metadata": {},
   "source": [
    "___\n",
    "### Hands-On Practice 2\n",
    "Create a list with 10 of your friends' names. Print:\n",
    "- The 3rd name\n",
    "- The last name\n",
    "- The 2nd, 4th, and 7th names using list indexing\n",
    "___"
   ]
  },
  {
   "cell_type": "code",
   "execution_count": null,
   "id": "f1435121",
   "metadata": {},
   "outputs": [],
   "source": [
    "# Your code here"
   ]
  },
  {
   "cell_type": "markdown",
   "id": "0e8edae9",
   "metadata": {},
   "source": [
    "## Part 3: Introduction to NumPy\n",
    "NumPy is the foundation of scientific computing in Python."
   ]
  },
  {
   "cell_type": "code",
   "execution_count": null,
   "id": "d8dc9b84-7d9c-4428-a76e-c87f100d945e",
   "metadata": {},
   "outputs": [],
   "source": [
    "import numpy as np\n",
    "\n",
    "# Create a NumPy array\n",
    "arr = np.array([1, 2, 3, 4, 5])\n",
    "print(\"Original array:\", arr)"
   ]
  },
  {
   "cell_type": "code",
   "execution_count": null,
   "id": "578d5b16-43ce-462e-8a79-35a8cadb27c7",
   "metadata": {},
   "outputs": [],
   "source": [
    "# Create arrays using arange\n",
    "arr1 = np.arange(1, 101)\n",
    "arr2 = np.arange(2, 101, 2)\n",
    "print(\"Array from 1 to 100:\", arr1)\n",
    "print(\"Even numbers from 2 to 100:\", arr2)"
   ]
  },
  {
   "cell_type": "code",
   "execution_count": null,
   "id": "4ef53edc-7bf6-4db6-bded-70f7c1f89719",
   "metadata": {},
   "outputs": [],
   "source": [
    "# Create evenly spaced array using linspace\n",
    "arr3 = np.linspace(0, 1, 11)\n",
    "print(\"Array from 0 to 1 with 11 values:\", arr3)"
   ]
  },
  {
   "cell_type": "code",
   "execution_count": null,
   "id": "78440447-c656-424d-a799-7cff57c5df66",
   "metadata": {},
   "outputs": [],
   "source": [
    "# Element-wise operation\n",
    "print(\"Array + 2:\", arr + 2)"
   ]
  },
  {
   "cell_type": "code",
   "execution_count": null,
   "id": "9f75e117-6b87-4e60-b0f0-eb732e8de883",
   "metadata": {},
   "outputs": [],
   "source": [
    "# Loop operations with lists\n",
    "number_list = [1, 2, 3, 4, 5]\n",
    "sum_list = sum(number_list)\n",
    "product_list = np.prod(number_list)\n",
    "print(\"Sum of list elements:\", sum_list)\n",
    "print(\"Product of list elements:\", product_list)"
   ]
  },
  {
   "cell_type": "code",
   "execution_count": null,
   "id": "dfa14b34-7819-4e60-8285-9953dee4a359",
   "metadata": {},
   "outputs": [],
   "source": [
    "# Loop operations with NumPy array\n",
    "sum_arr = sum(arr)\n",
    "product_arr = np.prod(arr)\n",
    "print(\"Sum of NumPy array elements:\", sum_arr)\n",
    "print(\"Product of NumPy array elements:\", product_arr)"
   ]
  },
  {
   "cell_type": "code",
   "execution_count": null,
   "id": "30a64856-caaa-4cca-8d1d-54ec2a44f9c8",
   "metadata": {},
   "outputs": [],
   "source": [
    "# Square each element\n",
    "print(\"Array squared:\", arr ** 2)"
   ]
  },
  {
   "cell_type": "markdown",
   "id": "7315bfe9",
   "metadata": {},
   "source": [
    "___\n",
    "### Hands-On Practice 3\n",
    "- Create an array with values 0 to 9 with dx=1. \n",
    "- Multiply it by 3 and square it.\n",
    "- Try calculating the sum of all elements using a for loop and using `np.sum()`.\n",
    "___"
   ]
  },
  {
   "cell_type": "code",
   "execution_count": null,
   "id": "fd3daa4a",
   "metadata": {},
   "outputs": [],
   "source": [
    "# Your code here"
   ]
  },
  {
   "cell_type": "markdown",
   "id": "32158767",
   "metadata": {},
   "source": [
    "## Part 4: Array Slicing and Indexing\n",
    "NumPy slicing is similar to Python lists but more powerful."
   ]
  },
  {
   "cell_type": "code",
   "execution_count": null,
   "id": "781cfdb0",
   "metadata": {},
   "outputs": [],
   "source": [
    "# Slicing array\n",
    "print(\"arr[1:4]:\", arr[1:4])\n",
    "print(\"arr[1:]:\", arr[1:])\n",
    "print(\"arr[-2:]:\", arr[-2:])\n",
    "print(\"arr[2:-2]:\", arr[2:-2])\n",
    "print(\"arr[::2]:\", arr[::2])\n",
    "print(\"arr[::-2]:\", arr[::-2])"
   ]
  },
  {
   "cell_type": "markdown",
   "id": "cc45e32f",
   "metadata": {},
   "source": [
    "___\n",
    "### Hands-On Practice 4\n",
    "Create an array with values from 10 to 19. Then:\n",
    "- Slice and print values from index 2 to 6\n",
    "- Print every second element using slice step\n",
    "- Print the reversed array\n",
    "___"
   ]
  },
  {
   "cell_type": "code",
   "execution_count": null,
   "id": "c8c8620c",
   "metadata": {},
   "outputs": [],
   "source": [
    "# Your code here"
   ]
  },
  {
   "cell_type": "markdown",
   "id": "4101f48a",
   "metadata": {},
   "source": [
    "## Part 5: NumPy Array Functions"
   ]
  },
  {
   "cell_type": "code",
   "execution_count": null,
   "id": "dbf0277a",
   "metadata": {},
   "outputs": [],
   "source": [
    "data = np.array([2, 4, 6, 8, 10])\n",
    "\n",
    "print(\"Mean:\", np.mean(data))\n",
    "print(\"Standard Deviation:\", np.std(data))\n",
    "print(\"Sum:\", np.sum(data))\n",
    "print(\"Max:\", np.max(data))"
   ]
  },
  {
   "cell_type": "markdown",
   "id": "95eb7161",
   "metadata": {},
   "source": [
    "___\n",
    "### Hands-On Practice 5\n",
    "Create a NumPy array with values from 5 to 25. Then:\n",
    "- Calculate mean, min, max, standard deviation\n",
    "- Use slicing to extract the middle 5 values\n",
    "- Try multiplying all values by 2 and computing their new mean\n",
    "___"
   ]
  },
  {
   "cell_type": "code",
   "execution_count": null,
   "id": "51d3354c",
   "metadata": {},
   "outputs": [],
   "source": [
    "# Your code here"
   ]
  },
  {
   "cell_type": "markdown",
   "id": "85ac22f9",
   "metadata": {},
   "source": [
    "## Final Exercises (To Submit)\n",
    "You will simulate and analyze student height data:\n",
    "\n",
    "1. Create a list of 10 student names (your classmates).\n",
    "2. Create a NumPy array with their heights (in ft).\n",
    "3. Print the height of the 3rd and last student.\n",
    "4. Compute and print the average height, the tallest height, and the shortest height.\n",
    "5. Create a new array that stores height in meters (by unit conversion).\n",
    "6. Bonus: Sort the names based on height and print the top 3 tallest students."
   ]
  },
  {
   "cell_type": "code",
   "execution_count": null,
   "id": "77c09734",
   "metadata": {},
   "outputs": [],
   "source": [
    "# Your code here"
   ]
  },
  {
   "cell_type": "markdown",
   "id": "e80cdb04",
   "metadata": {},
   "source": [
    "End of Chapter 1"
   ]
  }
 ],
 "metadata": {
  "kernelspec": {
   "display_name": "Python 3 (ipykernel)",
   "language": "python",
   "name": "python3"
  },
  "language_info": {
   "codemirror_mode": {
    "name": "ipython",
    "version": 3
   },
   "file_extension": ".py",
   "mimetype": "text/x-python",
   "name": "python",
   "nbconvert_exporter": "python",
   "pygments_lexer": "ipython3",
   "version": "3.12.7"
  }
 },
 "nbformat": 4,
 "nbformat_minor": 5
}
