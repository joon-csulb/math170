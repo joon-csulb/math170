{
 "cells": [
  {
   "cell_type": "markdown",
   "id": "d44d9600",
   "metadata": {},
   "source": [
    "# MATH170 - Chapter 1: Introduction to Python and NumPy\n",
    "\n",
    "**Course:** MATH170 Calculus for Data Science I  \n",
    "**Learning goals:** State key definitions and theorems. Apply them in computation and modeling. Explain results in precise mathematical language.  \n",
    "**Prerequisites:** Prior sections of the course as listed in the syllabus.  \n",
    "**Estimated time:** 90–120 minutes  \n",
    "**Outcomes:** By the end you can compute, justify with symbols, and validate numerically for this chapter’s topics.\n"
   ]
  },
  {
   "cell_type": "code",
   "execution_count": null,
   "id": "cdeed661",
   "metadata": {},
   "outputs": [],
   "source": [
    "import numpy as np\n",
    "import random\n",
    "random.seed(42)\n",
    "np.random.seed(42)\n",
    "def header(title):\n",
    "    print(\"\\n\" + \"=\"*80)\n",
    "    print(title)\n",
    "    print(\"=\"*80)"
   ]
  },
  {
   "cell_type": "markdown",
   "id": "22746fee",
   "metadata": {},
   "source": [
    "## Part 1: Concepts and Definitions"
   ]
  },
  {
   "cell_type": "markdown",
   "id": "b546c0ad",
   "metadata": {},
   "source": [
    "## Part 2: Worked Examples"
   ]
  },
  {
   "cell_type": "markdown",
   "id": "142f343b",
   "metadata": {},
   "source": [
    "## Part 3: Hands On Practice"
   ]
  },
  {
   "cell_type": "markdown",
   "id": "f5a39768",
   "metadata": {},
   "source": [
    "## Part 4: Checkpoint Quiz"
   ]
  },
  {
   "cell_type": "markdown",
   "id": "c52087aa",
   "metadata": {},
   "source": [
    "## Final Exercises"
   ]
  },
  {
   "cell_type": "markdown",
   "id": "d2a111f1",
   "metadata": {},
   "source": [
    "## Part 1: Basic Python Types\n",
    "Python supports integers, floats, strings, and booleans."
   ]
  },
  {
   "cell_type": "code",
   "execution_count": null,
   "id": "4f4c2666",
   "metadata": {},
   "outputs": [],
   "source": [
    "# Create three variables and print them\n",
    "my_age = 20              # integer\n",
    "pi_approx = 3.1415       # float\n",
    "my_name = \"Joon\"         # string\n",
    "\n",
    "print(\"Age:\", my_age)\n",
    "print(\"Approximate π:\", pi_approx)\n",
    "print(\"My name is\", my_name)\n",
    "\n",
    "# Check the type of each variable\n",
    "print(\"Type of my_age:\", type(my_age))\n",
    "print(\"Type of pi_approx:\", type(pi_approx))\n",
    "print(\"Type of my_name:\", type(my_name))\n",
    "\n",
    "# Type coercion: int + float results in float\n",
    "print(\"my_age + pi_approx =\", my_age + pi_approx)\n",
    "print(\"Type of result:\", type(my_age + pi_approx))\n",
    "\n",
    "# Invalid operation: int + str\n",
    "try:\n",
    "    result = my_age + my_name\n",
    "except TypeError as e:\n",
    "    print(\"Error when adding int and str:\", e)\n",
    "\n",
    "# Valid string repetition using multiplication\n",
    "print(\"my_name * 3 =\", my_name * 3)\n",
    "\n",
    "# Invalid operation: float - str\n",
    "try:\n",
    "    result = pi_approx - my_name\n",
    "except TypeError as e:\n",
    "    print(\"Error when subtracting float and str:\", e)"
   ]
  },
  {
   "cell_type": "markdown",
   "id": "f9c25bbe",
   "metadata": {},
   "source": [
    "### Hands-On Practice 1\n",
    "Create three variables:\n",
    "- an integer called `my_year`\n",
    "- a float called `g_constant`\n",
    "- a string called `my_school`\n",
    "Then print them using the `print()` function.\n",
    "\n",
    "Try printing each variable's type using `type()`.\n",
    "Try multiplying the float by 2 and adding 10 to the integer."
   ]
  },
  {
   "cell_type": "code",
   "execution_count": null,
   "id": "8f80061c",
   "metadata": {},
   "outputs": [],
   "source": [
    "# Your code here"
   ]
  },
  {
   "cell_type": "markdown",
   "id": "de8a09d5",
   "metadata": {},
   "source": [
    "## Part 2: Lists and Indexing\n",
    "Lists store multiple values. Indexing starts from 0 in Python."
   ]
  },
  {
   "cell_type": "code",
   "execution_count": null,
   "id": "d0d6fbec",
   "metadata": {},
   "outputs": [],
   "source": [
    "# Create a list of numbers (10 items)\n",
    "my_list = [10, 20, 30, 40, 50, 60, 70, 80, 90, 100]\n",
    "\n",
    "print(\"First item:\", my_list[0])\n",
    "print(\"Second item:\", my_list[1])\n",
    "print(\"Last item:\", my_list[-1])\n",
    "print(\"Items 2 to 6 (index 1 to 5):\", my_list[1:6])\n",
    "print(\"2nd and 4th items using indexing:\", [my_list[i] for i in [1, 3]])\n",
    "\n",
    "selected_items = [my_list[1], my_list[2], my_list[6]]\n",
    "print(\"Direct indexing result:\", selected_items)"
   ]
  },
  {
   "cell_type": "markdown",
   "id": "9fa87588",
   "metadata": {},
   "source": [
    "### Hands-On Practice 2\n",
    "Create a list with 10 of your friends' names. Print:\n",
    "- The 3rd name\n",
    "- The last name\n",
    "- The 2nd, 4th, and 7th names using list indexing"
   ]
  },
  {
   "cell_type": "code",
   "execution_count": null,
   "id": "f1435121",
   "metadata": {},
   "outputs": [],
   "source": [
    "# Your code here"
   ]
  },
  {
   "cell_type": "markdown",
   "id": "0e8edae9",
   "metadata": {},
   "source": [
    "## Part 3: Introduction to NumPy\n",
    "NumPy is the foundation of scientific computing in Python."
   ]
  },
  {
   "cell_type": "code",
   "execution_count": null,
   "id": "e37fb499",
   "metadata": {},
   "outputs": [],
   "source": [
    "import numpy as np\n",
    "\n",
    "# Create a NumPy array\n",
    "arr = np.array([1, 2, 3, 4, 5])\n",
    "print(\"Original array:\", arr)\n",
    "\n",
    "# Create arrays using arange\n",
    "arr1 = np.arange(1, 101)\n",
    "arr2 = np.arange(2, 101, 2)\n",
    "print(\"Array from 1 to 100:\", arr1)\n",
    "print(\"Even numbers from 2 to 100:\", arr2)\n",
    "\n",
    "# Create evenly spaced array using linspace\n",
    "arr3 = np.linspace(0, 1, 11)\n",
    "print(\"Array from 0 to 1 with 11 values:\", arr3)\n",
    "\n",
    "step_size = 0.05\n",
    "arr4 = np.linspace(0, 1, int(1 / step_size) + 1)\n",
    "print(\"Array from 0 to 1 with step size 0.05:\", arr4)\n",
    "\n",
    "# Element-wise operation\n",
    "print(\"Array + 2:\", arr + 2)\n",
    "\n",
    "# Loop operations with lists\n",
    "number_list = [1, 2, 3, 4, 5]\n",
    "sum_list = sum(number_list)\n",
    "product_list = np.prod(number_list)\n",
    "print(\"Sum of list elements:\", sum_list)\n",
    "print(\"Product of list elements:\", product_list)\n",
    "\n",
    "# Loop operations with NumPy array\n",
    "sum_arr = sum(arr)\n",
    "product_arr = np.prod(arr)\n",
    "print(\"Sum of NumPy array elements:\", sum_arr)\n",
    "print(\"Product of NumPy array elements:\", product_arr)\n",
    "\n",
    "# Square each element\n",
    "print(\"Array squared:\", arr ** 2)"
   ]
  },
  {
   "cell_type": "markdown",
   "id": "7315bfe9",
   "metadata": {},
   "source": [
    "### Hands-On Practice 3\n",
    "Create an array with values 0 to 9. Multiply it by 3 and square it.\n",
    "Try calculating the sum of all elements using a for loop and using `np.sum()`."
   ]
  },
  {
   "cell_type": "code",
   "execution_count": null,
   "id": "fd3daa4a",
   "metadata": {},
   "outputs": [],
   "source": [
    "# Your code here"
   ]
  },
  {
   "cell_type": "markdown",
   "id": "32158767",
   "metadata": {},
   "source": [
    "## Part 4: Array Slicing and Indexing\n",
    "NumPy slicing is similar to Python lists but more powerful."
   ]
  },
  {
   "cell_type": "code",
   "execution_count": null,
   "id": "781cfdb0",
   "metadata": {},
   "outputs": [],
   "source": [
    "# Slicing array from index 1 to 3\n",
    "print(\"arr[1:4]:\", arr[1:4])\n",
    "print(\"arr[-2:]:\", arr[-2:])"
   ]
  },
  {
   "cell_type": "markdown",
   "id": "cc45e32f",
   "metadata": {},
   "source": [
    "### Hands-On Practice 4\n",
    "Create an array with values from 10 to 19. Then:\n",
    "- Slice and print values from index 2 to 6\n",
    "- Print every second element using slice step\n",
    "- Print reversed array"
   ]
  },
  {
   "cell_type": "code",
   "execution_count": null,
   "id": "c8c8620c",
   "metadata": {},
   "outputs": [],
   "source": [
    "# Your code here"
   ]
  },
  {
   "cell_type": "markdown",
   "id": "4101f48a",
   "metadata": {},
   "source": [
    "## Part 5: NumPy Array Functions"
   ]
  },
  {
   "cell_type": "code",
   "execution_count": null,
   "id": "dbf0277a",
   "metadata": {},
   "outputs": [],
   "source": [
    "data = np.array([2, 4, 6, 8, 10])\n",
    "\n",
    "print(\"Mean:\", np.mean(data))\n",
    "print(\"Standard Deviation:\", np.std(data))\n",
    "print(\"Sum:\", np.sum(data))\n",
    "print(\"Max:\", np.max(data))"
   ]
  },
  {
   "cell_type": "markdown",
   "id": "95eb7161",
   "metadata": {},
   "source": [
    "### Hands-On Practice 5\n",
    "Create a NumPy array with values from 5 to 25. Then:\n",
    "- Calculate mean, min, max, standard deviation\n",
    "- Use slicing to extract the middle 5 values\n",
    "- Try multiplying all values by 2 and computing their new mean"
   ]
  },
  {
   "cell_type": "code",
   "execution_count": null,
   "id": "51d3354c",
   "metadata": {},
   "outputs": [],
   "source": [
    "# Your code here"
   ]
  },
  {
   "cell_type": "markdown",
   "id": "85ac22f9",
   "metadata": {},
   "source": [
    "## Final Exercises (To Submit)\n",
    "You will simulate and analyze student height data:\n",
    "\n",
    "1. Create a list of 10 student names (your classmates).\n",
    "2. Create a NumPy array with their heights (in ft).\n",
    "3. Print the height of the 3rd and last student.\n",
    "4. Compute and print the average height, tallest height, and shortest height.\n",
    "5. Create a new array that stores height in meters (by unit conversion).\n",
    "6. Use a for loop to calculate total height in meters.\n",
    "7. Bonus: Sort the names based on height and print the top 3 tallest students."
   ]
  },
  {
   "cell_type": "code",
   "execution_count": null,
   "id": "77c09734",
   "metadata": {},
   "outputs": [],
   "source": [
    "# Your code here"
   ]
  },
  {
   "cell_type": "markdown",
   "id": "e80cdb04",
   "metadata": {},
   "source": [
    "End of Chapter 1"
   ]
  }
 ],
 "metadata": {
  "kernelspec": {
   "display_name": "Python 3 (ipykernel)",
   "language": "python",
   "name": "python3"
  },
  "language_info": {
   "codemirror_mode": {
    "name": "ipython",
    "version": 3
   },
   "file_extension": ".py",
   "mimetype": "text/x-python",
   "name": "python",
   "nbconvert_exporter": "python",
   "pygments_lexer": "ipython3",
   "version": "3.12.7"
  }
 },
 "nbformat": 4,
 "nbformat_minor": 5
}
