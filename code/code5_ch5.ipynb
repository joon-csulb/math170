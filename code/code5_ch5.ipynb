{
 "cells": [
  {
   "cell_type": "markdown",
   "id": "c1410014-880a-4ac1-b925-f0320c4223ed",
   "metadata": {},
   "source": [
    "# MATH170 - Chapter 5: Integrals "
   ]
  },
  {
   "cell_type": "code",
   "execution_count": 1,
   "id": "a91122cc-fca6-498a-be61-72a26741b525",
   "metadata": {},
   "outputs": [],
   "source": [
    "# Environment setup\n",
    "import sympy as sp\n",
    "sp.init_printing(use_unicode=True)\n",
    "\n",
    "# Define common symbols\n",
    "x, a, b, c, k = sp.symbols('x a b c k', real=True)\n",
    "C = sp.symbols('C')"
   ]
  },
  {
   "cell_type": "markdown",
   "id": "b8a81ff1-1d5d-4e76-aac8-7080f878316f",
   "metadata": {},
   "source": [
    "## Part 1 Antiderivatives\n",
    "\n",
    "We compute several antiderivatives. We verify each result by differentiating the antiderivative and comparing it to the original integrand."
   ]
  },
  {
   "cell_type": "code",
   "execution_count": 2,
   "id": "dd2252cf-761d-44ac-8d12-317948a59f23",
   "metadata": {},
   "outputs": [
    {
     "data": {
      "image/png": "[encoded data removed]",
      "text/latex": [
       "$\\displaystyle \\left( x^{3} + 2 x^{2} + 5 x, \\  0\\right)$"
      ],
      "text/plain": [
       "⎛ 3      2         ⎞\n",
       "⎝x  + 2⋅x  + 5⋅x, 0⎠"
      ]
     },
     "execution_count": 2,
     "metadata": {},
     "output_type": "execute_result"
    }
   ],
   "source": [
    "# Example 1.1 Polynomial\n",
    "f = 3*x**2 + 4*x + 5\n",
    "F = sp.integrate(f, x)\n",
    "check = sp.simplify(sp.diff(F, x) - f)\n",
    "F, check"
   ]
  },
  {
   "cell_type": "code",
   "execution_count": 3,
   "id": "161b3c4e-035e-4a58-acb2-0a21ee859c2a",
   "metadata": {},
   "outputs": [
    {
     "data": {
      "image/png": "[encoded data removed]",
      "text/latex": [
       "$\\displaystyle \\left( \\left(2 x - 3\\right) e^{x}, \\  0\\right)$"
      ],
      "text/plain": [
       "⎛           x   ⎞\n",
       "⎝(2⋅x - 3)⋅ℯ , 0⎠"
      ]
     },
     "execution_count": 3,
     "metadata": {},
     "output_type": "execute_result"
    }
   ],
   "source": [
    "# Example 1.2 Exponential times polynomial\n",
    "g = (2*x - 1)*sp.exp(x)\n",
    "G = sp.integrate(g, x)\n",
    "check_g = sp.simplify(sp.diff(G, x) - g)\n",
    "G, check_g"
   ]
  },
  {
   "cell_type": "code",
   "execution_count": 4,
   "id": "8568b8ac-a825-47a6-b8aa-28826c4c4941",
   "metadata": {},
   "outputs": [
    {
     "data": {
      "image/png": "[encoded data removed]",
      "text/latex": [
       "$\\displaystyle \\left( \\frac{\\sin{\\left(3 x \\right)}}{3} - 2 \\cos{\\left(x \\right)}, \\  0\\right)$"
      ],
      "text/plain": [
       "⎛sin(3⋅x)              ⎞\n",
       "⎜──────── - 2⋅cos(x), 0⎟\n",
       "⎝   3                  ⎠"
      ]
     },
     "execution_count": 4,
     "metadata": {},
     "output_type": "execute_result"
    }
   ],
   "source": [
    "# Example 1.3 Trigonometric\n",
    "h = sp.cos(3*x) + 2*sp.sin(x)\n",
    "H = sp.integrate(h, x)\n",
    "check_h = sp.simplify(sp.diff(H, x) - h)\n",
    "H, check_h"
   ]
  },
  {
   "cell_type": "code",
   "execution_count": 5,
   "id": "2fcc2110-176d-424b-9f12-d6539113e89b",
   "metadata": {},
   "outputs": [
    {
     "data": {
      "image/png": "[encoded data removed]",
      "text/latex": [
       "$\\displaystyle \\left( \\log{\\left(x^{2} + 1 \\right)}, \\  0\\right)$"
      ],
      "text/plain": [
       "⎛   ⎛ 2    ⎞   ⎞\n",
       "⎝log⎝x  + 1⎠, 0⎠"
      ]
     },
     "execution_count": 5,
     "metadata": {},
     "output_type": "execute_result"
    }
   ],
   "source": [
    "# Example 1.4 Rational with simple substitution\n",
    "# Integrate (2x)/(1 + x^2)\n",
    "r = (2*x)/(1 + x**2)\n",
    "R = sp.integrate(r, x)\n",
    "check_r = sp.simplify(sp.diff(R, x) - r)\n",
    "R, check_r"
   ]
  },
  {
   "cell_type": "markdown",
   "id": "757ffe8c-a1f3-4149-a34e-ee150673cb25",
   "metadata": {},
   "source": [
    "### Hands on Practice 1\n",
    "\n",
    "Compute an antiderivative of $xe^x$\n",
    "\n",
    "Compute an antiderivative of $\\sec(x)^2 - \\csc(x)^2$"
   ]
  },
  {
   "cell_type": "markdown",
   "id": "36361470-07cf-48ad-8708-9c43e8643bdf",
   "metadata": {},
   "source": [
    "## Part 2 Definite Integrals\n",
    "\n",
    "We evaluate definite integrals."
   ]
  },
  {
   "cell_type": "code",
   "execution_count": 10,
   "id": "f8d7a0a4-97bd-4c81-a204-f2ccc5a83f4c",
   "metadata": {},
   "outputs": [
    {
     "data": {
      "image/png": "[encoded data removed]",
      "text/latex": [
       "$\\displaystyle 26$"
      ],
      "text/plain": [
       "26"
      ]
     },
     "execution_count": 10,
     "metadata": {},
     "output_type": "execute_result"
    }
   ],
   "source": [
    "# Example 2.1 Polynomial on a finite interval\n",
    "I1 = sp.integrate(3*x**2 + 4*x + 5, (x, 0, 2))\n",
    "I1"
   ]
  },
  {
   "cell_type": "code",
   "execution_count": 12,
   "id": "adda56ce-0697-4d81-8aa9-0caa7557cbca",
   "metadata": {},
   "outputs": [
    {
     "data": {
      "image/png": "[encoded data removed]",
      "text/latex": [
       "$\\displaystyle 4$"
      ],
      "text/plain": [
       "4"
      ]
     },
     "execution_count": 12,
     "metadata": {},
     "output_type": "execute_result"
    }
   ],
   "source": [
    "# Example 2.2 Absolute value and piecewise behavior\n",
    "I2 = sp.integrate(sp.Abs(x - 1), (x, -1, 3))\n",
    "I2"
   ]
  },
  {
   "cell_type": "code",
   "execution_count": 15,
   "id": "b20282fd-4a92-478c-82ab-774af2b69021",
   "metadata": {},
   "outputs": [
    {
     "data": {
      "image/png": "[encoded data removed]",
      "text/latex": [
       "$\\displaystyle \\left( \\frac{x}{2} - \\frac{\\sin{\\left(x \\right)} \\cos{\\left(x \\right)}}{2}, \\  \\frac{\\pi}{2}\\right)$"
      ],
      "text/plain": [
       "⎛x   sin(x)⋅cos(x)  π⎞\n",
       "⎜─ - ─────────────, ─⎟\n",
       "⎝2         2        2⎠"
      ]
     },
     "execution_count": 15,
     "metadata": {},
     "output_type": "execute_result"
    }
   ],
   "source": [
    "# Example 2.4 Fundamental Theorem of Calculus check\n",
    "f = sp.sin(x)**2\n",
    "F = sp.integrate(f, x)\n",
    "I3 = sp.integrate(f, (x,0,sp.pi))\n",
    "F, I3"
   ]
  },
  {
   "cell_type": "markdown",
   "id": "aae0b6d3-349b-48e1-a5fa-9ca02e1e7490",
   "metadata": {},
   "source": [
    "### Hands On Practice for Part 2\n",
    "\n",
    "Evaluate the integral $\\int_{0}^{\\pi} \\cos(2x)\\,dx$\n",
    "\n",
    "Evaluate the integral $\\int_{1}^{e} \\frac{1}{x}\\,dx$\n",
    "\n",
    "Evaluate the integral $\\int_{0}^{2} x e^{x}\\,dx$\n"
   ]
  },
  {
   "cell_type": "markdown",
   "id": "12edeb94-e255-4c97-a991-3821ff365642",
   "metadata": {},
   "source": [
    "## Part 3 Recovering $f(x)$ from $f'(x)$ using an initial value"
   ]
  },
  {
   "cell_type": "markdown",
   "id": "83a3ff3b-3a9e-4a7b-8bd0-e66cd30b7a01",
   "metadata": {},
   "source": [
    "Example 3.1\n",
    "\n",
    "Given $f'(x) = 6x$ and $f(0)=4$, find $f(x)$."
   ]
  },
  {
   "cell_type": "code",
   "execution_count": 19,
   "id": "a85f0789-13e0-456b-90a9-2c4254b60a35",
   "metadata": {},
   "outputs": [
    {
     "data": {
      "image/png": "[encoded data removed]",
      "text/latex": [
       "$\\displaystyle 3 x^{2} + 4$"
      ],
      "text/plain": [
       "   2    \n",
       "3⋅x  + 4"
      ]
     },
     "execution_count": 19,
     "metadata": {},
     "output_type": "execute_result"
    }
   ],
   "source": [
    "C = sp.Symbol('C')\n",
    "\n",
    "fp = 6*x\n",
    "F_general = sp.integrate(fp, x) + C\n",
    "C_val = sp.solve(sp.Eq(F_general.subs(x, 0), 4), C)[0]\n",
    "F = F_general.subs(C, C_val)\n",
    "F"
   ]
  },
  {
   "cell_type": "markdown",
   "id": "7539d498-4697-41ff-ba10-fe82caca8523",
   "metadata": {},
   "source": [
    "Example 3.2\n",
    "\n",
    "Given $f'(x)=\\sin{x}$ and $f(\\pi)=0$, find $f(x)$."
   ]
  },
  {
   "cell_type": "code",
   "execution_count": 20,
   "id": "615b5b6c-cfb0-4c5c-a0dd-7cefebbc21cd",
   "metadata": {},
   "outputs": [
    {
     "data": {
      "image/png": "[encoded data removed]",
      "text/latex": [
       "$\\displaystyle - \\cos{\\left(x \\right)} - 1$"
      ],
      "text/plain": [
       "-cos(x) - 1"
      ]
     },
     "execution_count": 20,
     "metadata": {},
     "output_type": "execute_result"
    }
   ],
   "source": [
    "fp = sp.sin(x)\n",
    "C = sp.Symbol('C')\n",
    "F_general = sp.integrate(fp, x) + C\n",
    "C_val = sp.solve(sp.Eq(F_general.subs(x, sp.pi), 0), C)[0]\n",
    "F = F_general.subs(C, C_val)\n",
    "F"
   ]
  },
  {
   "cell_type": "markdown",
   "id": "615164b7-de36-472b-babf-9c7b9cb4e112",
   "metadata": {},
   "source": [
    "Example 3.3\n",
    "\n",
    "Given $f'(x)=3e^{3x}$ and $f(1)=10$, find $f(x)$."
   ]
  },
  {
   "cell_type": "code",
   "execution_count": 22,
   "id": "f866bbb4-f638-4254-9c22-b0243542cd11",
   "metadata": {},
   "outputs": [
    {
     "data": {
      "image/png": "[encoded data removed]",
      "text/latex": [
       "$\\displaystyle e^{3 x} - e^{3} + 10$"
      ],
      "text/plain": [
       " 3⋅x    3     \n",
       "ℯ    - ℯ  + 10"
      ]
     },
     "execution_count": 22,
     "metadata": {},
     "output_type": "execute_result"
    }
   ],
   "source": [
    "fp = 3*sp.exp(3*x)\n",
    "C = sp.Symbol('C')\n",
    "F_general = sp.integrate(fp, x) + C\n",
    "C_val = sp.solve(sp.Eq(F_general.subs(x, 1), 10), C)[0]\n",
    "F = F_general.subs(C, C_val)\n",
    "F"
   ]
  },
  {
   "cell_type": "markdown",
   "id": "395dbc34-2978-4aff-b7e7-238fb1faeda9",
   "metadata": {},
   "source": [
    "### Hands On Practice for Part 3\n",
    "\n",
    "Find f(x) in each case. Use the initial value to determine the constant.\n",
    "\n",
    "$f'(x) = 2x + 4$  and  f(1) = 5  \n",
    "\n",
    "$f'(x) = \\cos{x}$  and  f(0) = 2  \n",
    "\n",
    "$f'(x) = e^{2x}$  and  f(-1) = 0\n"
   ]
  },
  {
   "cell_type": "code",
   "execution_count": null,
   "id": "2189d92a-ea1d-45fd-83df-049c001f8850",
   "metadata": {},
   "outputs": [],
   "source": []
  }
 ],
 "metadata": {
  "kernelspec": {
   "display_name": "Python 3 (ipykernel)",
   "language": "python",
   "name": "python3"
  },
  "language_info": {
   "codemirror_mode": {
    "name": "ipython",
    "version": 3
   },
   "file_extension": ".py",
   "mimetype": "text/x-python",
   "name": "python",
   "nbconvert_exporter": "python",
   "pygments_lexer": "ipython3",
   "version": "3.12.11"
  }
 },
 "nbformat": 4,
 "nbformat_minor": 5
}
